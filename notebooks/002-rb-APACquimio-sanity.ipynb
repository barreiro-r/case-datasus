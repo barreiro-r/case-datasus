{
 "cells": [
  {
   "cell_type": "markdown",
   "id": "ce0469b0",
   "metadata": {},
   "source": [
    "# APAC-AQ Sanity\n",
    "Some checks to confirm Dashboard data\n",
    "\n",
    "\n",
    "## Checks\n",
    "\n",
    "1. [ok] There are 539,602 cases overall;\n",
    "2. [ok] The total value is 2,388,886,256.74;\n",
    "3. [ok] The mean value for Melanoma is 4,575,00;\n",
    "4. [ok] There are 126,642 patients in SP;\n",
    "5. [ok] There are 3,985,483 APACs"
   ]
  },
  {
   "cell_type": "code",
   "execution_count": 1,
   "id": "e27563cb",
   "metadata": {},
   "outputs": [],
   "source": [
    "import pandas as pd\n",
    "import re"
   ]
  },
  {
   "cell_type": "code",
   "execution_count": 2,
   "id": "fb64d378",
   "metadata": {},
   "outputs": [
    {
     "name": "stderr",
     "output_type": "stream",
     "text": [
      "/var/folders/q0/1ds6zgs10g52fd4vx8_grvp00000gn/T/ipykernel_56139/3687296374.py:1: DtypeWarning: Columns (38,42,44,45,46,51,52,54,56,61,62,64) have mixed types. Specify dtype option on import or set low_memory=False.\n",
      "  apac_aq = pd.read_csv('../data/processed/apac-quimio-2022.csv')\n"
     ]
    }
   ],
   "source": [
    "apac_aq = pd.read_csv('../data/processed/apac-quimio-2022.csv')"
   ]
  },
  {
   "cell_type": "markdown",
   "id": "595104a5",
   "metadata": {},
   "source": [
    "## 1. There are 69,041 cases overall;"
   ]
  },
  {
   "cell_type": "code",
   "execution_count": 3,
   "id": "8d471703",
   "metadata": {},
   "outputs": [
    {
     "name": "stdout",
     "output_type": "stream",
     "text": [
      "Index(['Unnamed: 0', 'data_movimento', 'tipo_gestao', 'codigo_gestao',\n",
      "       'estabelecimento_id', 'numero_apac', 'data_competencia',\n",
      "       'procedimento_principal', 'valor_aprovado_total',\n",
      "       'municipio_estabelecimento', 'tipo_estabelecimento', 'tipo_prestador',\n",
      "       'modalidade_estabelecimento', 'cnpj_estabelecimento',\n",
      "       'cnpj_mantenedora', 'cns_paciente', 'codigo_idade', 'idade', 'sexo',\n",
      "       'raca_cor', 'municipio_residencia', 'nacionalidade', 'cep_paciente',\n",
      "       'uf_diferente', 'municipio_diferente', 'data_inicio_validade',\n",
      "       'data_fim_validade', 'tipo_atendimento', 'tipo_apac', 'motivo_saida',\n",
      "       'indicador_obito', 'indicador_encerramento', 'indicador_permanencia',\n",
      "       'indicador_alta', 'indicador_transferencia', 'data_ocorrencia',\n",
      "       'codigo_orgao_emissor', 'carater_atendimento', 'numero_apac_anterior',\n",
      "       'estabelecimento_solicitante_id', 'data_solicitacao',\n",
      "       'data_autorizacao', 'cid_associadas', 'cid_principal', 'cid_secundario',\n",
      "       'etnia', 'cid10_topografia', 'linfonodos_invadidos', 'estadio_uicc',\n",
      "       'grau_histopatologico', 'data_identificacao', 'tratamento_anterior',\n",
      "       'cid_tratamento1', 'data_inicio_tratamento1', 'cid_tratamento2',\n",
      "       'data_inicio_tratamento2', 'cid_tratamento3', 'data_inicio_tratamento3',\n",
      "       'continuidade_tratamento', 'data_inicio_tratamento', 'esquema_parte1',\n",
      "       'meses_planejados', 'meses_autorizados', 'esquema_parte2', 'aq_med01',\n",
      "       'aq_med02', 'aq_med03', 'aq_med04', 'aq_med05', 'aq_med06', 'aq_med07',\n",
      "       'aq_med08', 'aq_med09', 'aq_med10', 'natureza_juridica',\n",
      "       'cid_principal_main_categ', 'CID10', 'cid10_main_descricao',\n",
      "       'cid10_descricao_simplificada', 'codigo_estado', 'nome_estado',\n",
      "       'sigla_estado', ' motivo_saida_descricao'],\n",
      "      dtype='object')\n"
     ]
    }
   ],
   "source": [
    "apac_aq\n",
    "print(apac_aq.columns)"
   ]
  },
  {
   "cell_type": "code",
   "execution_count": 4,
   "id": "8ab6a14e",
   "metadata": {},
   "outputs": [
    {
     "data": {
      "text/plain": [
       "(539602, 2)"
      ]
     },
     "execution_count": 4,
     "metadata": {},
     "output_type": "execute_result"
    }
   ],
   "source": [
    "apac_aq.value_counts('cns_paciente').reset_index(name = 'n').shape"
   ]
  },
  {
   "cell_type": "markdown",
   "id": "126cf625",
   "metadata": {},
   "source": [
    "## 2. The total value is 2,388,886,256.74;"
   ]
  },
  {
   "cell_type": "code",
   "execution_count": 5,
   "id": "40df0357",
   "metadata": {},
   "outputs": [
    {
     "data": {
      "text/plain": [
       "2388886256.7400002"
      ]
     },
     "execution_count": 5,
     "metadata": {},
     "output_type": "execute_result"
    }
   ],
   "source": [
    "apac_aq['valor_aprovado_total'].sum()"
   ]
  },
  {
   "cell_type": "markdown",
   "id": "350e0a7e",
   "metadata": {},
   "source": [
    "## 3. The mean value for Melanoma is 4,575,00;"
   ]
  },
  {
   "cell_type": "code",
   "execution_count": 6,
   "id": "e79cc149",
   "metadata": {},
   "outputs": [
    {
     "data": {
      "text/plain": [
       "4574.999391829155"
      ]
     },
     "execution_count": 6,
     "metadata": {},
     "output_type": "execute_result"
    }
   ],
   "source": [
    "apac_aq[apac_aq['cid10_descricao_simplificada'] == 'Melanoma']['valor_aprovado_total'].mean()"
   ]
  },
  {
   "cell_type": "markdown",
   "id": "76e0e514",
   "metadata": {},
   "source": [
    "## 4. There are 126,642 patients in SP;"
   ]
  },
  {
   "cell_type": "code",
   "execution_count": 7,
   "id": "33ad94b5",
   "metadata": {},
   "outputs": [
    {
     "data": {
      "text/plain": [
       "(126642,)"
      ]
     },
     "execution_count": 7,
     "metadata": {},
     "output_type": "execute_result"
    }
   ],
   "source": [
    "apac_aq[apac_aq['nome_estado'] == 'São Paulo'].value_counts('cns_paciente').shape"
   ]
  },
  {
   "cell_type": "markdown",
   "id": "14a1ac37",
   "metadata": {},
   "source": [
    "## 5. There are 3,985,483 APACs"
   ]
  },
  {
   "cell_type": "code",
   "execution_count": 8,
   "id": "c53c02c0",
   "metadata": {},
   "outputs": [
    {
     "data": {
      "text/plain": [
       "(3985483, 83)"
      ]
     },
     "execution_count": 8,
     "metadata": {},
     "output_type": "execute_result"
    }
   ],
   "source": [
    "apac_aq.shape"
   ]
  }
 ],
 "metadata": {
  "kernelspec": {
   "display_name": "pysus",
   "language": "python",
   "name": "python3"
  },
  "language_info": {
   "codemirror_mode": {
    "name": "ipython",
    "version": 3
   },
   "file_extension": ".py",
   "mimetype": "text/x-python",
   "name": "python",
   "nbconvert_exporter": "python",
   "pygments_lexer": "ipython3",
   "version": "3.11.11"
  }
 },
 "nbformat": 4,
 "nbformat_minor": 5
}
