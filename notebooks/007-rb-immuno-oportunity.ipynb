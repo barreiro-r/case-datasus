{
 "cells": [
  {
   "cell_type": "markdown",
   "id": "ce0469b0",
   "metadata": {},
   "source": [
    "# Mapping immunotherapy opportunity in APACs\n",
    "\n",
    "The main focus of this notebook is to map the immunotherapy opportunity in APACs.\n",
    "\n",
    "## Objectives\n",
    "\n",
    "1. Identify and catalog procedures associated with immunotherapy.\n",
    "2. Search procedures in APAC-AQ and APAC-AM.\n",
    "3. Create metrics for:\n",
    "    - Total number of APACs\n",
    "    - Total number of patiencs (CNS)\n",
    "    - Total value of APACs.\n",
    "\n",
    "## Results\n",
    "\n",
    "The analysis revealed 27 procedures associated with immunotherapy medications.\n",
    "\n",
    "| Procedure |\n",
    "| --- |\n",
    "| ADALIMUMABE (A) 40 MG INJETAVEL- SERINGA PREENCHIDA (POR TRATAMENTO MENSAL) |\n",
    "| INFLIXIMABE (A)10 MG/ML 10 ML INJETAVEL (FRASCO-AMPOLA- POR TRATAMENTO MENSAL) |\n",
    "| INFLIXIMABE 10 MG/ML INJETAVEL (POR FRASCO-AMPOLA 10 ML) |\n",
    "| TOFACITINIBE 5 MG (POR COMPRIMIDO) |\n",
    "| VEDOLIZUMABE 300 MG PO LIOFILIZADO PARA SOLUCAO INJETAVEL |\n",
    "| BARICITINIBE 2MG (POR COMPRIMIDO) |\n",
    "| BARICITINIBE 4MG (POR COMPRIMIDO) |\n",
    "| UPADACITINIBE 15 MG (POR COMPRIMIDO REVESTIDO DE LIBERACAO PROLONGADA) |\n",
    "| ALENTUZUMABE 10 MG/ML SOLUCAO INJETAVEL (FRASCO-AMPOLA CONTENDO 1,2 ML) |\n",
    "| ADALIMUMABE 40 MG INJETAVEL (POR SERINGA PREENCHIDA) |\n",
    "| INFLIXIMABE 10 MG/ML INJETAVEL (POR FRASCO-AMPOLA COM 10 ML) |\n",
    "| INFLIXIMABE 10 MG/ML INJETAVEL (POR FRASCO-AMPOLA COM 10 ML) |\n",
    "| ADALIMUMABE 40 MG INJETAVEL (POR SERINGA PREENCHIDA) |\n",
    "| ADALIMUMABE 40 MG INJETAVEL (FRASCO AMPOLA) |\n",
    "| INFLIXIMABE 10 MG /ML INJETAVEL (POR FRASCO-AMPOLA COM 10 ML) (BIOSSIMILAR A) |\n",
    "| ADALIMUMABE 40 MG INJETAVEL ( POR SERINGA PREENCHIDA)( BIOSSIMILAR A) |\n",
    "| ADALIMUMABE 40 MG INJETAVEL (POR SERINGA PREENCHIDA) (BIOSSIMILAR B) |\n",
    "| RITUXIMABE 500 MG INJETAVEL (POR FRASCO-AMPOLA DE 50 ML) (ORIGINADOR) |\n",
    "| RITUXIMABE 500 MG INJETAVEL (POR FRASCO- AMPOLA DE 5O ML ) (BIOSSIMILAR A) |\n",
    "| RITUXIMABE 500 MG INJETAVEL (POR FRASCO AMPOLA DE 50 ML(BIOSSIMILAR B) |\n",
    "| RITUXIMABE 100 MG INJETAVEL (POR FRASCO-AMPOLA DE 10 ML) |\n",
    "| TOCILIZUMABE 20 MG/ML INJETAVEL (POR FRASCO-AMPOLA DE 4 ML) |\n",
    "| SECUQUINUMABE 150 MG/ML SOLUCAO INJETAVEL (POR SERINGA PREENCHIDA) |\n",
    "| USTEQUINUMABE 45 MG/0,5ML SOLUCAO INJETAVEL (POR SERINGA PREENCHIDA) |\n",
    "| RISANQUIZUMABE 75 MG/0,83ML -SOLUCAO INJETAVEL |\n",
    "| OMALIZUMABE 150MG SOLUCAO INJETAVEL |\n",
    "| MEPOLIZUMABE 100 MG/ML SOLUCAO INJETAVEL |\n",
    "\n",
    "No records of APACs were identified within the `APAC-AQ` dataset.\n",
    "\n",
    "For `APAC-AM`, we identified 21 procedures associated with immunotherapy drugs, which were narrowed down to 14 distinct drugs, corresponding to 1,089,295 records.\n",
    "\n",
    "\n",
    "| drug            | Total number of APACs | Total number of patients | Total value of APACs  |\n",
    "|-----------------|---------------------:|------------------------:|---------------------:|\n",
    "| ADALIMUMABE     | 566,630              | 66,993                  | R$ 19,926.40        |\n",
    "| INFLIXIMABE     | 177,110              | 24,935                  | R$ 0.00             |\n",
    "| SECUQUINUMABE   | 113,306              | 13,914                  | R$ 10,776.00        |\n",
    "| TOFACITINIBE    | 90,594               | 11,782                  | R$ 0.00             |\n",
    "| TOCILIZUMABE    | 62,162               | 7,767                   | R$ 0.00             |\n",
    "| USTEQUINUMABE   | 33,956               | 5,013                   | R$ 7,448.09         |\n",
    "| RITUXIMABE      | 10,249               | 2,937                   | R$ 0.00             |\n",
    "| VEDOLIZUMABE    | 10,208               | 1,867                   | R$ 0.00             |\n",
    "| BARICITINIBE    | 8,126                | 1,598                   | R$ 0.00             |\n",
    "| UPADACITINIBE   | 6,551                | 2,416                   | R$ 0.00             |\n",
    "| OMALIZUMABE     | 5,057                | 961                     | R$ 27,744,064.64    |\n",
    "| RISANQUIZUMABE  | 3,034                | 1,132                   | R$ 1,009.50         |\n",
    "| MEPOLIZUMABE    | 2,303                | 667                     | R$ 9,531,585.12     |\n",
    "| ALENTUZUMABE    | 9                   | 7                       | R$ 0.00             |\n",
    "| **TOTAL**       | **1,089,295**        | **137,413**             | **R$ 37,314,809.75** |\n"
   ]
  },
  {
   "cell_type": "code",
   "execution_count": 1,
   "id": "e27563cb",
   "metadata": {},
   "outputs": [],
   "source": [
    "# --- Imports ---\n",
    "import pandas as pd"
   ]
  },
  {
   "cell_type": "markdown",
   "id": "09dbfb57",
   "metadata": {},
   "source": [
    "## 1. Identify and catalog procedures associated with HER2"
   ]
  },
  {
   "cell_type": "code",
   "execution_count": 2,
   "id": "1e6c3b1b",
   "metadata": {},
   "outputs": [
    {
     "name": "stdout",
     "output_type": "stream",
     "text": [
      "<class 'pandas.core.frame.DataFrame'>\n",
      "RangeIndex: 5560 entries, 0 to 5559\n",
      "Data columns (total 2 columns):\n",
      " #   Column                            Non-Null Count  Dtype \n",
      "---  ------                            --------------  ----- \n",
      " 0   procedimento_principal            5560 non-null   int64 \n",
      " 1   procedimento_principal_descricao  5560 non-null   object\n",
      "dtypes: int64(1), object(1)\n",
      "memory usage: 87.0+ KB\n"
     ]
    }
   ],
   "source": [
    "procedures = pd.read_csv('../data/external/procedimentos-sigtap.csv', sep = ';')\n",
    "procedures.info()"
   ]
  },
  {
   "cell_type": "code",
   "execution_count": 3,
   "id": "aaa6e78d",
   "metadata": {},
   "outputs": [
    {
     "name": "stdout",
     "output_type": "stream",
     "text": [
      "['Adalimumabe', 'Alentuzumabe', 'Atezolizumabe', 'Avelumabe', 'Bevacizumabe', 'Cetuximabe', 'Denosumabe', 'Durvalumabe', 'Dupilumabe', 'Infliximabe', 'Ipilimumabe', 'Nivolumabe', 'Ocrelizumabe', 'Omalizumabe', 'Palivizumabe', 'Pembrolizumabe', 'Rituximabe', 'Secukinumabe', 'Tocilizumabe', 'Trastuzumabe', 'Ustekinumabe', 'Vedolizumabe', 'Acalabrutinibe', 'Afatinibe', 'Axitinibe', 'Baricitinibe', 'Bosutinibe', 'Cabozantinibe', 'Crizotinibe', 'Dasatinibe', 'Erlotinibe', 'Gefitinibe', 'Imatinibe', 'Lapatinibe', 'Nilotinibe', 'Osimertinibe', 'Pazopanibe', 'Ponatinibe', 'Ruxolitinibe', 'Sorafenibe', 'Sunitinibe', 'Tofacitinibe', 'Trametinibe', 'Upadacitinibe', 'Mepolizumabe', 'Adalimumabe', 'Secuquinumabe', 'Ustequinumabe', 'Risanquizumabe']\n",
      "['ADALIMUMABE (A) 40 MG INJETAVEL- SERINGA PREENCHIDA (POR TRATAMENTO MENSAL)', 'INFLIXIMABE (A)10 MG/ML 10 ML INJETAVEL (FRASCO-AMPOLA- POR TRATAMENTO MENSAL)', 'INFLIXIMABE 10 MG/ML INJETAVEL (POR FRASCO-AMPOLA 10 ML)', 'TOFACITINIBE 5 MG (POR COMPRIMIDO)', 'VEDOLIZUMABE 300 MG PO LIOFILIZADO PARA SOLUCAO INJETAVEL', 'BARICITINIBE 2MG (POR COMPRIMIDO)', 'BARICITINIBE 4MG (POR COMPRIMIDO)', 'UPADACITINIBE 15 MG (POR COMPRIMIDO REVESTIDO DE LIBERACAO PROLONGADA)', 'ALENTUZUMABE 10 MG/ML SOLUCAO INJETAVEL (FRASCO-AMPOLA CONTENDO 1,2 ML)', 'ADALIMUMABE 40 MG INJETAVEL (POR SERINGA PREENCHIDA)', 'INFLIXIMABE 10 MG/ML INJETAVEL (POR FRASCO-AMPOLA COM 10 ML)', 'INFLIXIMABE 10 MG/ML INJETAVEL (POR FRASCO-AMPOLA COM 10 ML)', 'ADALIMUMABE 40 MG INJETAVEL (POR SERINGA PREENCHIDA)', 'ADALIMUMABE 40 MG INJETAVEL (FRASCO AMPOLA)', 'INFLIXIMABE 10 MG /ML INJETAVEL (POR FRASCO-AMPOLA COM 10 ML) (BIOSSIMILAR A)', 'ADALIMUMABE 40 MG INJETAVEL ( POR SERINGA PREENCHIDA)( BIOSSIMILAR A)', 'ADALIMUMABE 40 MG INJETAVEL (POR SERINGA PREENCHIDA) (BIOSSIMILAR B)', 'RITUXIMABE 500 MG INJETAVEL (POR FRASCO-AMPOLA DE 50 ML) (ORIGINADOR)', 'RITUXIMABE 500 MG INJETAVEL (POR FRASCO- AMPOLA DE 5O ML ) (BIOSSIMILAR A)', 'RITUXIMABE 500 MG INJETAVEL (POR FRASCO AMPOLA DE 50 ML(BIOSSIMILAR B)', 'RITUXIMABE 100 MG INJETAVEL (POR FRASCO-AMPOLA DE 10 ML)', 'TOCILIZUMABE 20 MG/ML INJETAVEL (POR FRASCO-AMPOLA DE 4 ML)', 'SECUQUINUMABE 150 MG/ML SOLUCAO INJETAVEL (POR SERINGA PREENCHIDA)', 'USTEQUINUMABE 45 MG/0,5ML SOLUCAO INJETAVEL (POR SERINGA PREENCHIDA)', 'RISANQUIZUMABE 75 MG/0,83ML -SOLUCAO INJETAVEL', 'OMALIZUMABE 150MG SOLUCAO INJETAVEL', 'MEPOLIZUMABE 100 MG/ML SOLUCAO INJETAVEL']\n",
      "Were found 27 procedures.\n"
     ]
    }
   ],
   "source": [
    "immunotherapy_drugs = pd.read_csv('../data/external/immunotherapy-drugs.csv')\n",
    "immunotherapy_drugs = immunotherapy_drugs['immunotherapy_drugs'].tolist()\n",
    "print(immunotherapy_drugs)\n",
    "\n",
    "# Search for immunotherapy drugs in procedures\n",
    "immuno_procedures = procedures[procedures['procedimento_principal_descricao'].str.contains('|'.join(immunotherapy_drugs), case=False, na=False)]\n",
    "print(immuno_procedures['procedimento_principal_descricao'].tolist())\n",
    "\n",
    "print(f'Were found {immuno_procedures.shape[0]} procedures.')\n",
    "\n",
    "immuno_procedures = immuno_procedures['procedimento_principal_descricao'].tolist()"
   ]
  },
  {
   "cell_type": "markdown",
   "id": "9cdb17ce",
   "metadata": {},
   "source": [
    "# 2. Search procedures in APAC-AQ and APAC-AM"
   ]
  },
  {
   "cell_type": "markdown",
   "id": "6a072514",
   "metadata": {},
   "source": [
    "### APAC AQ"
   ]
  },
  {
   "cell_type": "code",
   "execution_count": 4,
   "id": "9a48fc12",
   "metadata": {},
   "outputs": [
    {
     "name": "stderr",
     "output_type": "stream",
     "text": [
      "/var/folders/q0/1ds6zgs10g52fd4vx8_grvp00000gn/T/ipykernel_46148/3687296374.py:1: DtypeWarning: Columns (37,41,43,44,45,50,51,53,55,60,61,63) have mixed types. Specify dtype option on import or set low_memory=False.\n",
      "  apac_aq = pd.read_csv('../data/processed/apac-quimio-2022.csv')\n"
     ]
    }
   ],
   "source": [
    "apac_aq = pd.read_csv('../data/processed/apac-quimio-2022.csv')"
   ]
  },
  {
   "cell_type": "code",
   "execution_count": 5,
   "id": "a453ce6b",
   "metadata": {},
   "outputs": [
    {
     "name": "stdout",
     "output_type": "stream",
     "text": [
      "<class 'pandas.core.frame.DataFrame'>\n",
      "RangeIndex: 3985483 entries, 0 to 3985482\n",
      "Data columns (total 83 columns):\n",
      " #   Column                          Dtype  \n",
      "---  ------                          -----  \n",
      " 0   data_movimento                  int64  \n",
      " 1   tipo_gestao                     object \n",
      " 2   codigo_gestao                   int64  \n",
      " 3   estabelecimento_id              int64  \n",
      " 4   numero_apac                     int64  \n",
      " 5   data_competencia                int64  \n",
      " 6   procedimento_principal          float64\n",
      " 7   valor_aprovado_total            float64\n",
      " 8   municipio_estabelecimento       int64  \n",
      " 9   tipo_estabelecimento            int64  \n",
      " 10  tipo_prestador                  int64  \n",
      " 11  modalidade_estabelecimento      object \n",
      " 12  cnpj_estabelecimento            int64  \n",
      " 13  cnpj_mantenedora                int64  \n",
      " 14  cns_paciente                    object \n",
      " 15  codigo_idade                    int64  \n",
      " 16  idade                           int64  \n",
      " 17  sexo                            object \n",
      " 18  raca_cor                        int64  \n",
      " 19  municipio_residencia            int64  \n",
      " 20  nacionalidade                   float64\n",
      " 21  cep_paciente                    int64  \n",
      " 22  uf_diferente                    int64  \n",
      " 23  municipio_diferente             int64  \n",
      " 24  data_inicio_validade            int64  \n",
      " 25  data_fim_validade               int64  \n",
      " 26  tipo_atendimento                int64  \n",
      " 27  tipo_apac                       int64  \n",
      " 28  motivo_saida                    int64  \n",
      " 29  indicador_obito                 int64  \n",
      " 30  indicador_encerramento          int64  \n",
      " 31  indicador_permanencia           int64  \n",
      " 32  indicador_alta                  int64  \n",
      " 33  indicador_transferencia         int64  \n",
      " 34  data_ocorrencia                 float64\n",
      " 35  codigo_orgao_emissor            object \n",
      " 36  carater_atendimento             int64  \n",
      " 37  numero_apac_anterior            object \n",
      " 38  estabelecimento_solicitante_id  int64  \n",
      " 39  data_solicitacao                float64\n",
      " 40  data_autorizacao                float64\n",
      " 41  cid_associadas                  object \n",
      " 42  cid_principal                   object \n",
      " 43  cid_secundario                  object \n",
      " 44  etnia                           object \n",
      " 45  cid10_topografia                object \n",
      " 46  linfonodos_invadidos            object \n",
      " 47  estadio_uicc                    float64\n",
      " 48  grau_histopatologico            object \n",
      " 49  data_identificacao              float64\n",
      " 50  tratamento_anterior             object \n",
      " 51  cid_tratamento1                 object \n",
      " 52  data_inicio_tratamento1         float64\n",
      " 53  cid_tratamento2                 object \n",
      " 54  data_inicio_tratamento2         float64\n",
      " 55  cid_tratamento3                 object \n",
      " 56  data_inicio_tratamento3         float64\n",
      " 57  continuidade_tratamento         object \n",
      " 58  data_inicio_tratamento          float64\n",
      " 59  esquema_parte1                  object \n",
      " 60  meses_planejados                object \n",
      " 61  meses_autorizados               object \n",
      " 62  esquema_parte2                  object \n",
      " 63  aq_med01                        object \n",
      " 64  aq_med02                        float64\n",
      " 65  aq_med03                        float64\n",
      " 66  aq_med04                        float64\n",
      " 67  aq_med05                        float64\n",
      " 68  aq_med06                        float64\n",
      " 69  aq_med07                        float64\n",
      " 70  aq_med08                        float64\n",
      " 71  aq_med09                        float64\n",
      " 72  aq_med10                        float64\n",
      " 73  natureza_juridica               int64  \n",
      " 74  cns_coded                       object \n",
      " 75  cid_principal_main_categ        object \n",
      " 76  CID10                           object \n",
      " 77  cid10_main_descricao            object \n",
      " 78  cid10_descricao_simplificada    object \n",
      " 79  codigo_estado                   int64  \n",
      " 80  nome_estado                     object \n",
      " 81  sigla_estado                    object \n",
      " 82   motivo_saida_descricao         object \n",
      "dtypes: float64(21), int64(31), object(31)\n",
      "memory usage: 2.5+ GB\n"
     ]
    }
   ],
   "source": [
    "apac_aq.info()"
   ]
  },
  {
   "cell_type": "code",
   "execution_count": 6,
   "id": "f2afe7af",
   "metadata": {},
   "outputs": [
    {
     "data": {
      "text/plain": [
       "(0, 83)"
      ]
     },
     "execution_count": 6,
     "metadata": {},
     "output_type": "execute_result"
    }
   ],
   "source": [
    "# Filter by immunotherapy procedures\n",
    "apac_aq_immuno = apac_aq[apac_aq['procedimento_principal'].isin(immuno_procedures)].copy()\n",
    "del apac_aq\n",
    "apac_aq_immuno.shape"
   ]
  },
  {
   "cell_type": "markdown",
   "id": "54789b8b",
   "metadata": {},
   "source": [
    "### APAC AM"
   ]
  },
  {
   "cell_type": "code",
   "execution_count": 7,
   "id": "1ad94413",
   "metadata": {},
   "outputs": [
    {
     "name": "stdout",
     "output_type": "stream",
     "text": [
      "<class 'pandas.core.frame.DataFrame'>\n",
      "RangeIndex: 27162604 entries, 0 to 27162603\n",
      "Data columns (total 4 columns):\n",
      " #   Column                            Dtype  \n",
      "---  ------                            -----  \n",
      " 0   procedimento_principal            float64\n",
      " 1   valor_total_apac                  float64\n",
      " 2   cns_paciente                      object \n",
      " 3   procedimento_principal_descricao  object \n",
      "dtypes: float64(2), object(2)\n",
      "memory usage: 828.9+ MB\n"
     ]
    }
   ],
   "source": [
    "selected_columns = [\"procedimento_principal\", \"procedimento_principal_descricao\", \"cns_paciente\", \"valor_total_apac\"]\n",
    "apac_am = pd.read_csv('../data/processed/apac-am-2022.csv', usecols=selected_columns)\n",
    "apac_am.info()"
   ]
  },
  {
   "cell_type": "code",
   "execution_count": 8,
   "id": "6144d500",
   "metadata": {},
   "outputs": [
    {
     "data": {
      "text/plain": [
       "(1089295, 4)"
      ]
     },
     "execution_count": 8,
     "metadata": {},
     "output_type": "execute_result"
    }
   ],
   "source": [
    "# Filter by immunotherapy procedures\n",
    "apac_am_immuno = apac_am[apac_am['procedimento_principal_descricao'].isin(immuno_procedures)].copy()\n",
    "# del apac_am\n",
    "apac_am_immuno.shape"
   ]
  },
  {
   "cell_type": "markdown",
   "id": "f7cccae4",
   "metadata": {},
   "source": [
    "### 3. Create metrics for:\n",
    "- Total number of APACs\n",
    "- Total number of patients (CNS)\n",
    "- Total value of APACs."
   ]
  },
  {
   "cell_type": "code",
   "execution_count": 9,
   "id": "46ed929f",
   "metadata": {},
   "outputs": [
    {
     "name": "stdout",
     "output_type": "stream",
     "text": [
      "21\n"
     ]
    },
    {
     "data": {
      "text/plain": [
       "['ADALIMUMABE 40 MG INJETAVEL (POR SERINGA PREENCHIDA)',\n",
       " 'INFLIXIMABE 10 MG/ML INJETAVEL (POR FRASCO-AMPOLA COM 10 ML)',\n",
       " 'SECUQUINUMABE 150 MG/ML SOLUCAO INJETAVEL (POR SERINGA PREENCHIDA)',\n",
       " 'TOFACITINIBE 5 MG (POR COMPRIMIDO)',\n",
       " 'TOCILIZUMABE 20 MG/ML INJETAVEL (POR FRASCO-AMPOLA DE 4 ML)',\n",
       " 'INFLIXIMABE 10 MG /ML INJETAVEL (POR FRASCO-AMPOLA COM 10 ML) (BIOSSIMILAR A)',\n",
       " 'USTEQUINUMABE 45 MG/0,5ML SOLUCAO INJETAVEL (POR SERINGA PREENCHIDA)',\n",
       " 'ADALIMUMABE 40 MG INJETAVEL ( POR SERINGA PREENCHIDA)( BIOSSIMILAR A)',\n",
       " 'VEDOLIZUMABE 300 MG PO LIOFILIZADO PARA SOLUCAO INJETAVEL',\n",
       " 'BARICITINIBE 4MG (POR COMPRIMIDO)',\n",
       " 'RITUXIMABE 500 MG INJETAVEL (POR FRASCO- AMPOLA DE 5O ML ) (BIOSSIMILAR A)',\n",
       " 'UPADACITINIBE 15 MG (POR COMPRIMIDO REVESTIDO DE LIBERACAO PROLONGADA)',\n",
       " 'OMALIZUMABE 150MG SOLUCAO INJETAVEL',\n",
       " 'ADALIMUMABE 40 MG INJETAVEL (POR SERINGA PREENCHIDA) (BIOSSIMILAR B)',\n",
       " 'RITUXIMABE 500 MG INJETAVEL (POR FRASCO-AMPOLA DE 50 ML) (ORIGINADOR)',\n",
       " 'RISANQUIZUMABE 75 MG/0,83ML -SOLUCAO INJETAVEL',\n",
       " 'MEPOLIZUMABE 100 MG/ML SOLUCAO INJETAVEL',\n",
       " 'RITUXIMABE 500 MG INJETAVEL (POR FRASCO AMPOLA DE 50 ML(BIOSSIMILAR B)',\n",
       " 'BARICITINIBE 2MG (POR COMPRIMIDO)',\n",
       " 'ADALIMUMABE 40 MG INJETAVEL (FRASCO AMPOLA)',\n",
       " 'ALENTUZUMABE 10 MG/ML SOLUCAO INJETAVEL (FRASCO-AMPOLA CONTENDO 1,2 ML)']"
      ]
     },
     "execution_count": 9,
     "metadata": {},
     "output_type": "execute_result"
    }
   ],
   "source": [
    "found_procedures = apac_am_immuno.value_counts(\"procedimento_principal_descricao\").index.tolist()\n",
    "print(len(found_procedures))\n",
    "found_procedures"
   ]
  },
  {
   "cell_type": "code",
   "execution_count": 10,
   "id": "7e204508",
   "metadata": {},
   "outputs": [
    {
     "data": {
      "text/plain": [
       "procedimento_principal_descricao_simple\n",
       "ADALIMUMABE       566630\n",
       "INFLIXIMABE       177110\n",
       "SECUQUINUMABE     113306\n",
       "TOFACITINIBE       90594\n",
       "TOCILIZUMABE       62162\n",
       "USTEQUINUMABE      33956\n",
       "RITUXIMABE         10249\n",
       "VEDOLIZUMABE       10208\n",
       "BARICITINIBE        8126\n",
       "UPADACITINIBE       6551\n",
       "OMALIZUMABE         5057\n",
       "RISANQUIZUMABE      3034\n",
       "MEPOLIZUMABE        2303\n",
       "ALENTUZUMABE           9\n",
       "Name: count, dtype: int64"
      ]
     },
     "execution_count": 10,
     "metadata": {},
     "output_type": "execute_result"
    }
   ],
   "source": [
    "apac_am_immuno[\"procedimento_principal_descricao_simple\"] = apac_am_immuno[\"procedimento_principal_descricao\"].str.split().str[0]\n",
    "found_procedures = apac_am_immuno.value_counts(\"procedimento_principal_descricao_simple\").index.tolist()\n",
    "apac_am_immuno.value_counts(\"procedimento_principal_descricao_simple\")"
   ]
  },
  {
   "cell_type": "code",
   "execution_count": 11,
   "id": "497f715e",
   "metadata": {},
   "outputs": [
    {
     "name": "stdout",
     "output_type": "stream",
     "text": [
      "ADALIMUMABE\n",
      "Total number of APACs: 566,630\n",
      "Total number of patients: 66,993\n",
      "Total number of patients: R$ 19,926.40\n",
      "INFLIXIMABE\n",
      "Total number of APACs: 177,110\n",
      "Total number of patients: 24,935\n",
      "Total number of patients: R$ 0.00\n",
      "SECUQUINUMABE\n",
      "Total number of APACs: 113,306\n",
      "Total number of patients: 13,914\n",
      "Total number of patients: R$ 10,776.00\n",
      "TOFACITINIBE\n",
      "Total number of APACs: 90,594\n",
      "Total number of patients: 11,782\n",
      "Total number of patients: R$ 0.00\n",
      "TOCILIZUMABE\n",
      "Total number of APACs: 62,162\n",
      "Total number of patients: 7,767\n",
      "Total number of patients: R$ 0.00\n",
      "USTEQUINUMABE\n",
      "Total number of APACs: 33,956\n",
      "Total number of patients: 5,013\n",
      "Total number of patients: R$ 7,448.09\n",
      "RITUXIMABE\n",
      "Total number of APACs: 10,249\n",
      "Total number of patients: 2,937\n",
      "Total number of patients: R$ 0.00\n",
      "VEDOLIZUMABE\n",
      "Total number of APACs: 10,208\n",
      "Total number of patients: 1,867\n",
      "Total number of patients: R$ 0.00\n",
      "BARICITINIBE\n",
      "Total number of APACs: 8,126\n",
      "Total number of patients: 1,598\n",
      "Total number of patients: R$ 0.00\n",
      "UPADACITINIBE\n",
      "Total number of APACs: 6,551\n",
      "Total number of patients: 2,416\n",
      "Total number of patients: R$ 0.00\n",
      "OMALIZUMABE\n",
      "Total number of APACs: 5,057\n",
      "Total number of patients: 961\n",
      "Total number of patients: R$ 27,744,064.64\n",
      "RISANQUIZUMABE\n",
      "Total number of APACs: 3,034\n",
      "Total number of patients: 1,132\n",
      "Total number of patients: R$ 1,009.50\n",
      "MEPOLIZUMABE\n",
      "Total number of APACs: 2,303\n",
      "Total number of patients: 667\n",
      "Total number of patients: R$ 9,531,585.12\n",
      "ALENTUZUMABE\n",
      "Total number of APACs: 9\n",
      "Total number of patients: 7\n",
      "Total number of patients: R$ 0.00\n",
      "TOTAL\n",
      "Total number of APACs: 1,089,295\n",
      "Total number of patients: 137,413\n",
      "Total number of patients: R$ 37,314,809.75\n"
     ]
    }
   ],
   "source": [
    "for immuno_procedure in found_procedures:\n",
    "    apac_am_immuno_foundp = apac_am_immuno[apac_am_immuno[\"procedimento_principal_descricao_simple\"] == immuno_procedure]\n",
    "    print(f\"{immuno_procedure}\")\n",
    "    print(f\"Total number of APACs: {apac_am_immuno_foundp.shape[0]:,.0f}\")\n",
    "    print(f\"Total number of patients: {apac_am_immuno_foundp.value_counts('cns_paciente').shape[0]:,.0f}\")\n",
    "    print(f\"Total number of patients: R$ {apac_am_immuno_foundp['valor_total_apac'].sum():,.2f}\")\n",
    "\n",
    "print(f\"TOTAL\")\n",
    "print(f\"Total number of APACs: {apac_am_immuno.shape[0]:,.0f}\")\n",
    "print(f\"Total number of patients: {apac_am_immuno.value_counts('cns_paciente').shape[0]:,.0f}\")\n",
    "print(f\"Total number of patients: R$ {apac_am_immuno['valor_total_apac'].sum():,.2f}\")"
   ]
  },
  {
   "cell_type": "markdown",
   "id": "27ec4557",
   "metadata": {},
   "source": []
  }
 ],
 "metadata": {
  "kernelspec": {
   "display_name": "pysus",
   "language": "python",
   "name": "python3"
  },
  "language_info": {
   "codemirror_mode": {
    "name": "ipython",
    "version": 3
   },
   "file_extension": ".py",
   "mimetype": "text/x-python",
   "name": "python",
   "nbconvert_exporter": "python",
   "pygments_lexer": "ipython3",
   "version": "3.11.11"
  }
 },
 "nbformat": 4,
 "nbformat_minor": 5
}
