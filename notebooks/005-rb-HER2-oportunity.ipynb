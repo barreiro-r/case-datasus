{
 "cells": [
  {
   "cell_type": "markdown",
   "id": "ce0469b0",
   "metadata": {},
   "source": [
    "# Mapping HER2 opportunity in APACs\n",
    "\n",
    "The main focus of this notebook is to map the HER2 opportunity in APACs.\n",
    "\n",
    "## Objectives\n",
    "\n",
    "1. Identify and catalog procedures associated with HER2.\n",
    "2. Search procedures in APAC-AQ and APAC-AM.\n",
    "3. Create metrics for:\n",
    "    - Total number of APACs\n",
    "    - Total number of patiencs (CNS)\n",
    "    - Total value of APACs.\n",
    "\n",
    "## Results\n",
    "\n",
    "There were no procedures found in APAC-AM.\n",
    "In APAC-AQ:\n",
    "\n",
    "| Metric | Value |\n",
    "| --- | --- |\n",
    "| Total number of APACs | 121,692 |\n",
    "| Total number of patients | 18,916 |\n",
    "| Total value of APACs | R$ 80,899,500.20 |\n",
    "\n",
    "CIDs *(for some sanity)*\n",
    "| cid10_main_descricao | n |\n",
    "| --- | --- |\n",
    "| Neoplasia maligna da mama | 121692 |"
   ]
  },
  {
   "cell_type": "code",
   "execution_count": 28,
   "id": "e27563cb",
   "metadata": {},
   "outputs": [],
   "source": [
    "# --- Imports ---\n",
    "import pandas as pd"
   ]
  },
  {
   "cell_type": "markdown",
   "id": "09dbfb57",
   "metadata": {},
   "source": [
    "## 1. Identify and catalog procedures associated with HER2"
   ]
  },
  {
   "cell_type": "code",
   "execution_count": 2,
   "id": "1e6c3b1b",
   "metadata": {},
   "outputs": [
    {
     "name": "stdout",
     "output_type": "stream",
     "text": [
      "<class 'pandas.core.frame.DataFrame'>\n",
      "RangeIndex: 5560 entries, 0 to 5559\n",
      "Data columns (total 2 columns):\n",
      " #   Column                            Non-Null Count  Dtype \n",
      "---  ------                            --------------  ----- \n",
      " 0   procedimento_principal            5560 non-null   int64 \n",
      " 1   procedimento_principal_descricao  5560 non-null   object\n",
      "dtypes: int64(1), object(1)\n",
      "memory usage: 87.0+ KB\n"
     ]
    }
   ],
   "source": [
    "procedures = pd.read_csv('../data/external/procedimentos-sigtap.csv', sep = ';')\n",
    "procedures.info()"
   ]
  },
  {
   "cell_type": "code",
   "execution_count": 13,
   "id": "aaa6e78d",
   "metadata": {},
   "outputs": [
    {
     "name": "stdout",
     "output_type": "stream",
     "text": [
      "      procedimento_principal  \\\n",
      "671                202100049   \n",
      "1859               304020419   \n",
      "1860               304020427   \n",
      "1861               304020435   \n",
      "1862               304020443   \n",
      "1906               304040185   \n",
      "1934               304050261   \n",
      "1935               304050270   \n",
      "1936               304050288   \n",
      "1937               304050296   \n",
      "1938               304050300   \n",
      "1939               304050318   \n",
      "\n",
      "                       procedimento_principal_descricao  \n",
      "671                 QUANTIFICACAO/AMPLIFICACAO DO HER-2  \n",
      "1859  POLIQUIMIOTERAPIA DO CARCINOMA DE MAMA HER-2 P...  \n",
      "1860  MONOQUIMIOTERAPIA DO CARCINOMA DE MAMA HER-2 P...  \n",
      "1861  POLIQUIMIOTERAPIA COM DUPLO ANTI HER-2 DO CARC...  \n",
      "1862  QUIMIOTERAPIA COM DUPLO ANTI-HER-2 DO CARCINOM...  \n",
      "1906  POLIQUIMIOTERAPIA DO CARCINOMA DE MAMA HER-2 P...  \n",
      "1934  POLIQUIMIOTERAPIA DO CARCINOMA DE MAMA HER-2 P...  \n",
      "1935  POLIQUIMIOTERAPIA DO CARCINOMA DE MAMA HER-2 P...  \n",
      "1936  POLIQUIMIOTERAPIA DO CARCINOMA DE MAMA HER-2 P...  \n",
      "1937  MONOQUIMIOTERAPIA DO CARCINOMA DE MAMA HER-2 P...  \n",
      "1938  MONOQUIMIOTERAPIA DO CARCINOMA DE MAMA HER-2 P...  \n",
      "1939  MONOQUIMIOTERAPIA DO CARCINOMA DE MAMA HER-2 P...  \n",
      "[202100049, 304020419, 304020427, 304020435, 304020443, 304040185, 304050261, 304050270, 304050288, 304050296, 304050300, 304050318]\n"
     ]
    }
   ],
   "source": [
    "# Search HER-2 in procedures\n",
    "her2_procedures = procedures[procedures['procedimento_principal_descricao'].str.contains('HER-2')]\n",
    "print(her2_procedures)\n",
    "\n",
    "her2_procedures = her2_procedures['procedimento_principal'].to_list()\n",
    "print(her2_procedures)"
   ]
  },
  {
   "cell_type": "markdown",
   "id": "9cdb17ce",
   "metadata": {},
   "source": [
    "# 2. Search procedures in APAC-AQ and APAC-AM"
   ]
  },
  {
   "cell_type": "markdown",
   "id": "6a072514",
   "metadata": {},
   "source": [
    "### APAC AQ"
   ]
  },
  {
   "cell_type": "code",
   "execution_count": 6,
   "id": "9a48fc12",
   "metadata": {},
   "outputs": [],
   "source": [
    "apac_aq = pd.read_csv('../data/processed/apac-quimio-2022.csv')"
   ]
  },
  {
   "cell_type": "code",
   "execution_count": 7,
   "id": "a453ce6b",
   "metadata": {},
   "outputs": [
    {
     "name": "stdout",
     "output_type": "stream",
     "text": [
      "<class 'pandas.core.frame.DataFrame'>\n",
      "RangeIndex: 3985483 entries, 0 to 3985482\n",
      "Data columns (total 83 columns):\n",
      " #   Column                          Dtype  \n",
      "---  ------                          -----  \n",
      " 0   data_movimento                  int64  \n",
      " 1   tipo_gestao                     object \n",
      " 2   codigo_gestao                   int64  \n",
      " 3   estabelecimento_id              int64  \n",
      " 4   numero_apac                     int64  \n",
      " 5   data_competencia                int64  \n",
      " 6   procedimento_principal          float64\n",
      " 7   valor_aprovado_total            float64\n",
      " 8   municipio_estabelecimento       int64  \n",
      " 9   tipo_estabelecimento            int64  \n",
      " 10  tipo_prestador                  int64  \n",
      " 11  modalidade_estabelecimento      object \n",
      " 12  cnpj_estabelecimento            int64  \n",
      " 13  cnpj_mantenedora                int64  \n",
      " 14  cns_paciente                    object \n",
      " 15  codigo_idade                    int64  \n",
      " 16  idade                           int64  \n",
      " 17  sexo                            object \n",
      " 18  raca_cor                        int64  \n",
      " 19  municipio_residencia            int64  \n",
      " 20  nacionalidade                   float64\n",
      " 21  cep_paciente                    int64  \n",
      " 22  uf_diferente                    int64  \n",
      " 23  municipio_diferente             int64  \n",
      " 24  data_inicio_validade            int64  \n",
      " 25  data_fim_validade               int64  \n",
      " 26  tipo_atendimento                int64  \n",
      " 27  tipo_apac                       int64  \n",
      " 28  motivo_saida                    int64  \n",
      " 29  indicador_obito                 int64  \n",
      " 30  indicador_encerramento          int64  \n",
      " 31  indicador_permanencia           int64  \n",
      " 32  indicador_alta                  int64  \n",
      " 33  indicador_transferencia         int64  \n",
      " 34  data_ocorrencia                 float64\n",
      " 35  codigo_orgao_emissor            object \n",
      " 36  carater_atendimento             int64  \n",
      " 37  numero_apac_anterior            object \n",
      " 38  estabelecimento_solicitante_id  int64  \n",
      " 39  data_solicitacao                float64\n",
      " 40  data_autorizacao                float64\n",
      " 41  cid_associadas                  object \n",
      " 42  cid_principal                   object \n",
      " 43  cid_secundario                  object \n",
      " 44  etnia                           object \n",
      " 45  cid10_topografia                object \n",
      " 46  linfonodos_invadidos            object \n",
      " 47  estadio_uicc                    float64\n",
      " 48  grau_histopatologico            object \n",
      " 49  data_identificacao              float64\n",
      " 50  tratamento_anterior             object \n",
      " 51  cid_tratamento1                 object \n",
      " 52  data_inicio_tratamento1         float64\n",
      " 53  cid_tratamento2                 object \n",
      " 54  data_inicio_tratamento2         float64\n",
      " 55  cid_tratamento3                 object \n",
      " 56  data_inicio_tratamento3         float64\n",
      " 57  continuidade_tratamento         object \n",
      " 58  data_inicio_tratamento          float64\n",
      " 59  esquema_parte1                  object \n",
      " 60  meses_planejados                object \n",
      " 61  meses_autorizados               object \n",
      " 62  esquema_parte2                  object \n",
      " 63  aq_med01                        object \n",
      " 64  aq_med02                        float64\n",
      " 65  aq_med03                        float64\n",
      " 66  aq_med04                        float64\n",
      " 67  aq_med05                        float64\n",
      " 68  aq_med06                        float64\n",
      " 69  aq_med07                        float64\n",
      " 70  aq_med08                        float64\n",
      " 71  aq_med09                        float64\n",
      " 72  aq_med10                        float64\n",
      " 73  natureza_juridica               int64  \n",
      " 74  cns_coded                       object \n",
      " 75  cid_principal_main_categ        object \n",
      " 76  CID10                           object \n",
      " 77  cid10_main_descricao            object \n",
      " 78  cid10_descricao_simplificada    object \n",
      " 79  codigo_estado                   int64  \n",
      " 80  nome_estado                     object \n",
      " 81  sigla_estado                    object \n",
      " 82   motivo_saida_descricao         object \n",
      "dtypes: float64(21), int64(31), object(31)\n",
      "memory usage: 2.5+ GB\n"
     ]
    }
   ],
   "source": [
    "apac_aq.info()"
   ]
  },
  {
   "cell_type": "code",
   "execution_count": 9,
   "id": "f2afe7af",
   "metadata": {},
   "outputs": [
    {
     "name": "stdout",
     "output_type": "stream",
     "text": [
      "<class 'pandas.core.frame.DataFrame'>\n",
      "Index: 121692 entries, 6 to 3985481\n",
      "Data columns (total 83 columns):\n",
      " #   Column                          Non-Null Count   Dtype  \n",
      "---  ------                          --------------   -----  \n",
      " 0   data_movimento                  121692 non-null  int64  \n",
      " 1   tipo_gestao                     121692 non-null  object \n",
      " 2   codigo_gestao                   121692 non-null  int64  \n",
      " 3   estabelecimento_id              121692 non-null  int64  \n",
      " 4   numero_apac                     121692 non-null  int64  \n",
      " 5   data_competencia                121692 non-null  int64  \n",
      " 6   procedimento_principal          121692 non-null  float64\n",
      " 7   valor_aprovado_total            121692 non-null  float64\n",
      " 8   municipio_estabelecimento       121692 non-null  int64  \n",
      " 9   tipo_estabelecimento            121692 non-null  int64  \n",
      " 10  tipo_prestador                  121692 non-null  int64  \n",
      " 11  modalidade_estabelecimento      121692 non-null  object \n",
      " 12  cnpj_estabelecimento            121692 non-null  int64  \n",
      " 13  cnpj_mantenedora                121692 non-null  int64  \n",
      " 14  cns_paciente                    121692 non-null  object \n",
      " 15  codigo_idade                    121692 non-null  int64  \n",
      " 16  idade                           121692 non-null  int64  \n",
      " 17  sexo                            121692 non-null  object \n",
      " 18  raca_cor                        121692 non-null  int64  \n",
      " 19  municipio_residencia            121692 non-null  int64  \n",
      " 20  nacionalidade                   121692 non-null  float64\n",
      " 21  cep_paciente                    121692 non-null  int64  \n",
      " 22  uf_diferente                    121692 non-null  int64  \n",
      " 23  municipio_diferente             121692 non-null  int64  \n",
      " 24  data_inicio_validade            121692 non-null  int64  \n",
      " 25  data_fim_validade               121692 non-null  int64  \n",
      " 26  tipo_atendimento                121692 non-null  int64  \n",
      " 27  tipo_apac                       121692 non-null  int64  \n",
      " 28  motivo_saida                    121692 non-null  int64  \n",
      " 29  indicador_obito                 121692 non-null  int64  \n",
      " 30  indicador_encerramento          121692 non-null  int64  \n",
      " 31  indicador_permanencia           121692 non-null  int64  \n",
      " 32  indicador_alta                  121692 non-null  int64  \n",
      " 33  indicador_transferencia         121692 non-null  int64  \n",
      " 34  data_ocorrencia                 17203 non-null   float64\n",
      " 35  codigo_orgao_emissor            121692 non-null  object \n",
      " 36  carater_atendimento             121692 non-null  int64  \n",
      " 37  numero_apac_anterior            121692 non-null  object \n",
      " 38  estabelecimento_solicitante_id  121692 non-null  int64  \n",
      " 39  data_solicitacao                119825 non-null  float64\n",
      " 40  data_autorizacao                119825 non-null  float64\n",
      " 41  cid_associadas                  121692 non-null  object \n",
      " 42  cid_principal                   121692 non-null  object \n",
      " 43  cid_secundario                  121692 non-null  object \n",
      " 44  etnia                           25 non-null      object \n",
      " 45  cid10_topografia                21421 non-null   object \n",
      " 46  linfonodos_invadidos            121692 non-null  object \n",
      " 47  estadio_uicc                    121692 non-null  float64\n",
      " 48  grau_histopatologico            121480 non-null  object \n",
      " 49  data_identificacao              121692 non-null  float64\n",
      " 50  tratamento_anterior             121692 non-null  object \n",
      " 51  cid_tratamento1                 43966 non-null   object \n",
      " 52  data_inicio_tratamento1         51826 non-null   float64\n",
      " 53  cid_tratamento2                 28707 non-null   object \n",
      " 54  data_inicio_tratamento2         34464 non-null   float64\n",
      " 55  cid_tratamento3                 13339 non-null   object \n",
      " 56  data_inicio_tratamento3         17280 non-null   float64\n",
      " 57  continuidade_tratamento         121692 non-null  object \n",
      " 58  data_inicio_tratamento          121692 non-null  float64\n",
      " 59  esquema_parte1                  121692 non-null  object \n",
      " 60  meses_planejados                121692 non-null  object \n",
      " 61  meses_autorizados               121692 non-null  object \n",
      " 62  esquema_parte2                  105787 non-null  object \n",
      " 63  aq_med01                        100461 non-null  object \n",
      " 64  aq_med02                        47677 non-null   float64\n",
      " 65  aq_med03                        20528 non-null   float64\n",
      " 66  aq_med04                        5713 non-null    float64\n",
      " 67  aq_med05                        278 non-null     float64\n",
      " 68  aq_med06                        64 non-null      float64\n",
      " 69  aq_med07                        26 non-null      float64\n",
      " 70  aq_med08                        11 non-null      float64\n",
      " 71  aq_med09                        11 non-null      float64\n",
      " 72  aq_med10                        11 non-null      float64\n",
      " 73  natureza_juridica               121692 non-null  int64  \n",
      " 74  cns_coded                       121692 non-null  object \n",
      " 75  cid_principal_main_categ        121692 non-null  object \n",
      " 76  CID10                           121692 non-null  object \n",
      " 77  cid10_main_descricao            121692 non-null  object \n",
      " 78  cid10_descricao_simplificada    121692 non-null  object \n",
      " 79  codigo_estado                   121692 non-null  int64  \n",
      " 80  nome_estado                     121692 non-null  object \n",
      " 81  sigla_estado                    121692 non-null  object \n",
      " 82   motivo_saida_descricao         121692 non-null  object \n",
      "dtypes: float64(21), int64(31), object(31)\n",
      "memory usage: 78.0+ MB\n"
     ]
    }
   ],
   "source": [
    "# Filter by HER-2\n",
    "apac_aq_her2 = apac_aq[apac_aq['procedimento_principal'].isin(her2_procedures)].copy()\n",
    "apac_aq_her2.shape\n",
    "\n",
    "del apac_aq"
   ]
  },
  {
   "cell_type": "markdown",
   "id": "54789b8b",
   "metadata": {},
   "source": [
    "### APAC AM"
   ]
  },
  {
   "cell_type": "code",
   "execution_count": 10,
   "id": "1ad94413",
   "metadata": {},
   "outputs": [
    {
     "name": "stdout",
     "output_type": "stream",
     "text": [
      "<class 'pandas.core.frame.DataFrame'>\n",
      "RangeIndex: 27162604 entries, 0 to 27162603\n",
      "Data columns (total 27 columns):\n",
      " #   Column                            Dtype  \n",
      "---  ------                            -----  \n",
      " 0   Unnamed: 0                        int64  \n",
      " 1   numero_apac                       int64  \n",
      " 2   procedimento_principal            float64\n",
      " 3   valor_total_apac                  float64\n",
      " 4   codigo_uf_municipio               int64  \n",
      " 5   cns_paciente                      object \n",
      " 6   idade                             int64  \n",
      " 7   sexo                              object \n",
      " 8   raca_cor                          int64  \n",
      " 9   motivo_saida_permanencia          int64  \n",
      " 10  data_ocorrencia                   float64\n",
      " 11  cid_principal                     object \n",
      " 12  peso                              int64  \n",
      " 13  altura                            int64  \n",
      " 14  indicador_transplante             object \n",
      " 15  quantidade_transplantes           int64  \n",
      " 16  indicador_gestante                object \n",
      " 17  cid_principal_main_categ          object \n",
      " 18  CID10                             object \n",
      " 19  cid10_main_descricao              object \n",
      " 20  procedimento_principal_descricao  object \n",
      " 21  codigo_estado                     int64  \n",
      " 22  nome_estado                       object \n",
      " 23  sigla_estado                      object \n",
      " 24  motivo_saida                      int64  \n",
      " 25   motivo_saida_descricao           object \n",
      " 26  cns_coded                         object \n",
      "dtypes: float64(3), int64(11), object(13)\n",
      "memory usage: 5.5+ GB\n"
     ]
    }
   ],
   "source": [
    "apac_am = pd.read_csv('../data/processed/apac-am-2022.csv')\n",
    "apac_am.info()"
   ]
  },
  {
   "cell_type": "code",
   "execution_count": 11,
   "id": "6144d500",
   "metadata": {},
   "outputs": [],
   "source": [
    "# Filter by HER-2\n",
    "apac_am_her2 = apac_am[apac_am['procedimento_principal'].isin(her2_procedures)].copy()\n",
    "apac_am_her2.shape\n",
    "\n",
    "del apac_am"
   ]
  },
  {
   "cell_type": "markdown",
   "id": "f7cccae4",
   "metadata": {},
   "source": [
    "## Create metrics for:\n",
    "- Total number of APACs\n",
    "- Total number of patients (CNS)\n",
    "- Total value of APACs."
   ]
  },
  {
   "cell_type": "code",
   "execution_count": 27,
   "id": "497f715e",
   "metadata": {},
   "outputs": [
    {
     "name": "stdout",
     "output_type": "stream",
     "text": [
      "Total number of APACs: 121,692\n",
      "Total number of patients: 18,916\n",
      "Total number of patients: R$ 80,899,500.20\n",
      "\n",
      "CIDs\n",
      "cid10_main_descricao\n",
      "Neoplasia maligna da mama    121692\n",
      "Name: count, dtype: int64\n",
      "\n"
     ]
    }
   ],
   "source": [
    "print(f\"Total number of APACs: {apac_aq_her2.shape[0]:,.0f}\")\n",
    "\n",
    "print(f\"Total number of patients: {apac_aq_her2.value_counts('cns_paciente').shape[0]:,.0f}\")\n",
    "\n",
    "print(f\"Total number of patients: R$ {apac_aq_her2['valor_aprovado_total'].sum():,.2f}\")\n",
    "\n",
    "print(f\"\\nCIDs\\n{apac_aq_her2.value_counts('cid10_main_descricao')}\\n\")"
   ]
  },
  {
   "cell_type": "markdown",
   "id": "27ec4557",
   "metadata": {},
   "source": []
  }
 ],
 "metadata": {
  "kernelspec": {
   "display_name": "pysus",
   "language": "python",
   "name": "python3"
  },
  "language_info": {
   "codemirror_mode": {
    "name": "ipython",
    "version": 3
   },
   "file_extension": ".py",
   "mimetype": "text/x-python",
   "name": "python",
   "nbconvert_exporter": "python",
   "pygments_lexer": "ipython3",
   "version": "3.11.11"
  }
 },
 "nbformat": 4,
 "nbformat_minor": 5
}
