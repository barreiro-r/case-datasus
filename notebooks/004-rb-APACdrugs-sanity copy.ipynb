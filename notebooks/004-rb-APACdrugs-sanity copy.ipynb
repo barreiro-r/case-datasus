{
 "cells": [
  {
   "cell_type": "markdown",
   "id": "ce0469b0",
   "metadata": {},
   "source": [
    "# APAC-AM Sanity\n",
    "Some checks to confirm Dashboard data\n",
    "\n",
    "\n",
    "## Checks\n",
    "\n",
    "1. [ok] There are 43 distinct CIDs;\n",
    "2. [ok] There are 138 distinct Drugs/Procedures;\n",
    "3. [ok] The total number of APACs is 2,322,909;\n",
    "4. [ok] The total number of distinct CNS is 413,506\n",
    "5. [ok] There sum of Valor Total Aprovado is 567,028,425.54"
   ]
  },
  {
   "cell_type": "code",
   "execution_count": 1,
   "id": "e27563cb",
   "metadata": {},
   "outputs": [],
   "source": [
    "import pandas as pd\n",
    "import re"
   ]
  },
  {
   "cell_type": "code",
   "execution_count": 2,
   "id": "79f0d6a7",
   "metadata": {},
   "outputs": [],
   "source": [
    "apac_am = pd.read_csv('../data/processed/apac-am-2022.csv')"
   ]
  },
  {
   "cell_type": "code",
   "execution_count": 3,
   "id": "2daa514f",
   "metadata": {},
   "outputs": [
    {
     "data": {
      "text/plain": [
       "(27162604, 27)"
      ]
     },
     "execution_count": 3,
     "metadata": {},
     "output_type": "execute_result"
    }
   ],
   "source": [
    "apac_am.shape"
   ]
  },
  {
   "cell_type": "code",
   "execution_count": null,
   "id": "66c41ec0",
   "metadata": {},
   "outputs": [
    {
     "data": {
      "text/plain": [
       "(2322909, 27)"
      ]
     },
     "execution_count": 6,
     "metadata": {},
     "output_type": "execute_result"
    }
   ],
   "source": [
    "# removing 0 values\n",
    "apac_am = apac_am[apac_am['valor_total_apac'] >= 0.1]\n",
    "apac_am.shape"
   ]
  },
  {
   "cell_type": "code",
   "execution_count": 7,
   "id": "26259911",
   "metadata": {},
   "outputs": [
    {
     "name": "stdout",
     "output_type": "stream",
     "text": [
      "<class 'pandas.core.frame.DataFrame'>\n",
      "Index: 2322909 entries, 3 to 27162586\n",
      "Data columns (total 27 columns):\n",
      " #   Column                            Dtype  \n",
      "---  ------                            -----  \n",
      " 0   Unnamed: 0                        int64  \n",
      " 1   numero_apac                       int64  \n",
      " 2   procedimento_principal            float64\n",
      " 3   valor_total_apac                  float64\n",
      " 4   codigo_uf_municipio               int64  \n",
      " 5   cns_paciente                      object \n",
      " 6   idade                             int64  \n",
      " 7   sexo                              object \n",
      " 8   raca_cor                          int64  \n",
      " 9   motivo_saida_permanencia          int64  \n",
      " 10  data_ocorrencia                   float64\n",
      " 11  cid_principal                     object \n",
      " 12  peso                              int64  \n",
      " 13  altura                            int64  \n",
      " 14  indicador_transplante             object \n",
      " 15  quantidade_transplantes           int64  \n",
      " 16  indicador_gestante                object \n",
      " 17  cid_principal_main_categ          object \n",
      " 18  CID10                             object \n",
      " 19  cid10_main_descricao              object \n",
      " 20  procedimento_principal_descricao  object \n",
      " 21  codigo_estado                     int64  \n",
      " 22  nome_estado                       object \n",
      " 23  sigla_estado                      object \n",
      " 24  motivo_saida                      int64  \n",
      " 25   motivo_saida_descricao           object \n",
      " 26  cns_coded                         object \n",
      "dtypes: float64(3), int64(11), object(13)\n",
      "memory usage: 496.2+ MB\n"
     ]
    }
   ],
   "source": [
    "apac_am.info()"
   ]
  },
  {
   "cell_type": "markdown",
   "id": "f96a4d43",
   "metadata": {},
   "source": [
    "## 1. There are 43 distinct CIDs;"
   ]
  },
  {
   "cell_type": "code",
   "execution_count": 9,
   "id": "6b0c2720",
   "metadata": {},
   "outputs": [
    {
     "data": {
      "text/plain": [
       "(43,)"
      ]
     },
     "execution_count": 9,
     "metadata": {},
     "output_type": "execute_result"
    }
   ],
   "source": [
    "apac_am.value_counts('cid10_main_descricao').shape"
   ]
  },
  {
   "cell_type": "markdown",
   "id": "1237d836",
   "metadata": {},
   "source": [
    "## 2. There are 138 distinct Drugs/Procedures;"
   ]
  },
  {
   "cell_type": "code",
   "execution_count": 10,
   "id": "72f4a208",
   "metadata": {},
   "outputs": [
    {
     "data": {
      "text/plain": [
       "(138,)"
      ]
     },
     "execution_count": 10,
     "metadata": {},
     "output_type": "execute_result"
    }
   ],
   "source": [
    "apac_am.value_counts('procedimento_principal_descricao').shape"
   ]
  },
  {
   "cell_type": "markdown",
   "id": "16a98073",
   "metadata": {},
   "source": [
    "## 3. The total number of APACs is 2,322,909;"
   ]
  },
  {
   "cell_type": "code",
   "execution_count": 11,
   "id": "686d44be",
   "metadata": {},
   "outputs": [
    {
     "data": {
      "text/plain": [
       "(2322909, 27)"
      ]
     },
     "execution_count": 11,
     "metadata": {},
     "output_type": "execute_result"
    }
   ],
   "source": [
    "apac_am.shape"
   ]
  },
  {
   "cell_type": "markdown",
   "id": "3b9934b7",
   "metadata": {},
   "source": [
    "## 4. The total number of distinct CNS is 413,506"
   ]
  },
  {
   "cell_type": "code",
   "execution_count": 12,
   "id": "11cbafb3",
   "metadata": {},
   "outputs": [
    {
     "data": {
      "text/plain": [
       "(413506,)"
      ]
     },
     "execution_count": 12,
     "metadata": {},
     "output_type": "execute_result"
    }
   ],
   "source": [
    "apac_am.value_counts('cns_paciente').shape"
   ]
  },
  {
   "cell_type": "markdown",
   "id": "cf8ffa74",
   "metadata": {},
   "source": [
    "## 5. There sum of Valor Total Aprovado is 567,028,425.54"
   ]
  },
  {
   "cell_type": "code",
   "execution_count": 13,
   "id": "594d72f7",
   "metadata": {},
   "outputs": [
    {
     "data": {
      "text/plain": [
       "567028425.5400001"
      ]
     },
     "execution_count": 13,
     "metadata": {},
     "output_type": "execute_result"
    }
   ],
   "source": [
    "apac_am.valor_total_apac.sum()"
   ]
  }
 ],
 "metadata": {
  "kernelspec": {
   "display_name": "pysus",
   "language": "python",
   "name": "python3"
  },
  "language_info": {
   "codemirror_mode": {
    "name": "ipython",
    "version": 3
   },
   "file_extension": ".py",
   "mimetype": "text/x-python",
   "name": "python",
   "nbconvert_exporter": "python",
   "pygments_lexer": "ipython3",
   "version": "3.11.11"
  }
 },
 "nbformat": 4,
 "nbformat_minor": 5
}
