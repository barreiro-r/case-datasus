{
 "cells": [
  {
   "cell_type": "markdown",
   "id": "ce0469b0",
   "metadata": {},
   "source": [
    "# Mapping antipsychotic opportunity in APACs\n",
    "\n",
    "The main focus of this notebook is to map the antipsychotic opportunity in APACs.\n",
    "\n",
    "## Objectives\n",
    "\n",
    "1. Identify CIDs related to schizophrenia or bipolar disorders in APAC-AM.\n",
    "2. Identify which medications are being used (procedures).\n",
    "3. Create metrics for:\n",
    "    - Total number of APACs\n",
    "    - Total number of patiencs (CNS)\n",
    "    - Total value of APACs.\n",
    "\n",
    "## Results\n",
    "\n",
    "The analysis identified three CIDs associated with schizophrenia or bipolar disorders:\n",
    "\n",
    "\n",
    "| Disorder                     | Row Count    |\n",
    "|------------------------------|--------------|\n",
    "| Esquizofrenia                | 2,937,889    |\n",
    "| Transtorno afetivo bipolar   | 939,998      |\n",
    "| Transtornos esquizoafetivos  | 127,846      |\n",
    "| **TOTAL**                    | **4,005,733** |\n",
    "\n",
    "\n",
    "The following medications were related to the identified CIDs:\n",
    "\n",
    "| Drug                               | Row Count |\n",
    "|------------------------------------|-----------|\n",
    "| OLANZAPINA 10 MG (POR COMPRIMIDO)  | 779,907   |\n",
    "| QUETIAPINA 100 MG (POR COMPRIMIDO) | 636,380   |\n",
    "| OLANZAPINA 5 MG (POR COMPRIMIDO)   | 512,014   |\n",
    "| QUETIAPINA 25 MG (POR COMPRIMIDO)  | 436,364   |\n",
    "| RISPERIDONA 2 MG (POR COMPRIMIDO)  | 435,360   |\n",
    "| QUETIAPINA 200 MG (POR COMPRIMIDO) | 377,197   |\n",
    "| CLOZAPINA 100 MG (POR COMPRIMIDO)  | 344,313   |\n",
    "| RISPERIDONA 1 MG (POR COMPRIMIDO)  | 161,612   |\n",
    "| RISPERIDONA 3 MG (POR COMPRIMIDO)  | 72,622    |\n",
    "| QUETIAPINA 300 MG (POR COMPRIMIDO) | 55,080    |\n",
    "| LAMOTRIGINA 100 MG (POR COMPRIMIDO)| 54,835    |\n",
    "| ZIPRASIDONA 80 MG (POR CAPSULA)    | 54,450    |\n",
    "| ZIPRASIDONA 40 MG (POR CAPSULA)    | 37,105    |\n",
    "| CLOZAPINA 25 MG (POR COMPRIMIDO)   | 33,650    |\n",
    "| LAMOTRIGINA 25 MG (POR COMPRIMIDO) | 8,558     |\n",
    "| LAMOTRIGINA 50 MG (POR COMPRIMIDO) | 6,286     |\n",
    "| **TOTAL**                          | **4,005,723** |\n",
    "\n",
    "\n",
    "Of those medications many had APAC valor equal to zero:\n",
    "\n",
    "| drug            | rows with zero value |\n",
    "|-----------------|----------------------|\n",
    "| QUETIAPINA      | 1,471,646           |\n",
    "| OLANZAPINA      | 1,271,060           |\n",
    "| CLOZAPINA       | 373,186             |\n",
    "| RISPERIDONA     | 132,084             |\n",
    "| ZIPRASIDONA     | 89,775              |\n",
    "| LAMOTRIGINA     | 65,955              |\n",
    "| **TOTAL**           | **3,403,706**           |\n",
    "\n",
    "Calculated the proposed metrics for each medication:\n",
    "\n",
    "| Medication      | Total number of APACs | Total number of patients | Total value of APACs  |\n",
    "| --------------- | -------------------- | ----------------------- | -------------------- |\n",
    "| QUETIAPINA      | 1,505,021            | 187,515                 | R$ 220,601.96        |\n",
    "| OLANZAPINA      | 1,291,921            | 148,458                 | R$ 161,341.72        |\n",
    "| RISPERIDONA     | 669,594              | 84,728                  | R$ 3,535,420.97      |\n",
    "| CLOZAPINA       | 377,963              | 40,424                  | R$ 37,221.51         |\n",
    "| ZIPRASIDONA     | 91,555               | 9,631                   | R$ 12,866.33         |\n",
    "| LAMOTRIGINA     | 69,679               | 10,503                  | R$ 21,646.88         |\n",
    "| **TOTAL**       | **4,005,733**        | **464,034**             | **R$ 3,989,099.37**   |\n",
    "\n",
    "\n",
    "It is notable that of the **4,005,733** APACs, **3,403,706** (85.01%) had a value of zero."
   ]
  },
  {
   "cell_type": "code",
   "execution_count": 1,
   "id": "e27563cb",
   "metadata": {},
   "outputs": [],
   "source": [
    "# --- Imports ---\n",
    "import pandas as pd"
   ]
  },
  {
   "cell_type": "markdown",
   "id": "09dbfb57",
   "metadata": {},
   "source": [
    "## 1. Identify CIDs related to schizophrenia or bipolar disorders in APAC-AM."
   ]
  },
  {
   "cell_type": "code",
   "execution_count": 2,
   "id": "1ad94413",
   "metadata": {},
   "outputs": [
    {
     "name": "stdout",
     "output_type": "stream",
     "text": [
      "<class 'pandas.core.frame.DataFrame'>\n",
      "RangeIndex: 27162604 entries, 0 to 27162603\n",
      "Data columns (total 27 columns):\n",
      " #   Column                            Dtype  \n",
      "---  ------                            -----  \n",
      " 0   Unnamed: 0                        int64  \n",
      " 1   numero_apac                       int64  \n",
      " 2   procedimento_principal            float64\n",
      " 3   valor_total_apac                  float64\n",
      " 4   codigo_uf_municipio               int64  \n",
      " 5   cns_paciente                      object \n",
      " 6   idade                             int64  \n",
      " 7   sexo                              object \n",
      " 8   raca_cor                          int64  \n",
      " 9   motivo_saida_permanencia          int64  \n",
      " 10  data_ocorrencia                   float64\n",
      " 11  cid_principal                     object \n",
      " 12  peso                              int64  \n",
      " 13  altura                            int64  \n",
      " 14  indicador_transplante             object \n",
      " 15  quantidade_transplantes           int64  \n",
      " 16  indicador_gestante                object \n",
      " 17  cid_principal_main_categ          object \n",
      " 18  CID10                             object \n",
      " 19  cid10_main_descricao              object \n",
      " 20  procedimento_principal_descricao  object \n",
      " 21  codigo_estado                     int64  \n",
      " 22  nome_estado                       object \n",
      " 23  sigla_estado                      object \n",
      " 24  motivo_saida                      int64  \n",
      " 25   motivo_saida_descricao           object \n",
      " 26  cns_coded                         object \n",
      "dtypes: float64(3), int64(11), object(13)\n",
      "memory usage: 5.5+ GB\n"
     ]
    }
   ],
   "source": [
    "apac_am = pd.read_csv('../data/processed/apac-am-2022.csv')\n",
    "apac_am.info()"
   ]
  },
  {
   "cell_type": "code",
   "execution_count": 4,
   "id": "6144d500",
   "metadata": {},
   "outputs": [
    {
     "name": "stdout",
     "output_type": "stream",
     "text": [
      "<class 'pandas.core.frame.DataFrame'>\n",
      "Index: 4005733 entries, 0 to 27162602\n",
      "Data columns (total 27 columns):\n",
      " #   Column                            Dtype  \n",
      "---  ------                            -----  \n",
      " 0   Unnamed: 0                        int64  \n",
      " 1   numero_apac                       int64  \n",
      " 2   procedimento_principal            float64\n",
      " 3   valor_total_apac                  float64\n",
      " 4   codigo_uf_municipio               int64  \n",
      " 5   cns_paciente                      object \n",
      " 6   idade                             int64  \n",
      " 7   sexo                              object \n",
      " 8   raca_cor                          int64  \n",
      " 9   motivo_saida_permanencia          int64  \n",
      " 10  data_ocorrencia                   float64\n",
      " 11  cid_principal                     object \n",
      " 12  peso                              int64  \n",
      " 13  altura                            int64  \n",
      " 14  indicador_transplante             object \n",
      " 15  quantidade_transplantes           int64  \n",
      " 16  indicador_gestante                object \n",
      " 17  cid_principal_main_categ          object \n",
      " 18  CID10                             object \n",
      " 19  cid10_main_descricao              object \n",
      " 20  procedimento_principal_descricao  object \n",
      " 21  codigo_estado                     int64  \n",
      " 22  nome_estado                       object \n",
      " 23  sigla_estado                      object \n",
      " 24  motivo_saida                      int64  \n",
      " 25   motivo_saida_descricao           object \n",
      " 26  cns_coded                         object \n",
      "dtypes: float64(3), int64(11), object(13)\n",
      "memory usage: 855.7+ MB\n"
     ]
    }
   ],
   "source": [
    "# Filter by psichotic related CIDs\n",
    "apac_am_psi = apac_am[apac_am['cid10_main_descricao'].str.contains('Esquizo', case = False) | apac_am['cid10_main_descricao'].str.contains('bipolar', case = False) ]\n",
    "\n",
    "del apac_am\n",
    "\n",
    "apac_am_psi.info()"
   ]
  },
  {
   "cell_type": "code",
   "execution_count": 21,
   "id": "cb480d6c",
   "metadata": {},
   "outputs": [
    {
     "data": {
      "text/plain": [
       "cid10_main_descricao\n",
       "Esquizofrenia                  2937889\n",
       "Transtorno afetivo bipolar      939998\n",
       "Transtornos esquizoafetivos     127846\n",
       "Name: count, dtype: int64"
      ]
     },
     "execution_count": 21,
     "metadata": {},
     "output_type": "execute_result"
    }
   ],
   "source": [
    "apac_am_psi.value_counts(\"cid10_main_descricao\")"
   ]
  },
  {
   "cell_type": "markdown",
   "id": "d0298564",
   "metadata": {},
   "source": [
    "## 2. Identify which medications are being used (procedures)."
   ]
  },
  {
   "cell_type": "code",
   "execution_count": 6,
   "id": "0612cf19",
   "metadata": {},
   "outputs": [
    {
     "data": {
      "text/plain": [
       "procedimento_principal_descricao\n",
       "OLANZAPINA 10 MG (POR COMPRIMIDO)      779907\n",
       "QUETIAPINA 100 MG (POR COMPRIMIDO)     636380\n",
       "OLANZAPINA 5 MG (POR COMPRIMIDO)       512014\n",
       "QUETIAPINA 25 MG (POR COMPRIMIDO)      436364\n",
       "RISPERIDONA 2 MG (POR COMPRIMIDO)      435360\n",
       "QUETIAPINA 200 MG (POR COMPRIMIDO)     377197\n",
       "CLOZAPINA 100 MG (POR COMPRIMIDO)      344313\n",
       "RISPERIDONA 1 MG (POR COMPRIMIDO)      161612\n",
       "RISPERIDONA 3 MG (POR COMPRIMIDO)       72622\n",
       "QUETIAPINA 300 MG (POR COMPRIMIDO)      55080\n",
       "LAMOTRIGINA 100 MG (POR COMPRIMIDO)     54835\n",
       "ZIPRASIDONA 80 MG (POR CAPSULA)         54450\n",
       "ZIPRASIDONA 40 MG (POR CAPSULA)         37105\n",
       "CLOZAPINA 25 MG (POR COMPRIMIDO)        33650\n",
       " LAMOTRIGINA 25 MG (POR COMPRIMIDO)      8558\n",
       "LAMOTRIGINA 50 MG (POR COMPRIMIDO)       6286\n",
       "Name: count, dtype: int64"
      ]
     },
     "execution_count": 6,
     "metadata": {},
     "output_type": "execute_result"
    }
   ],
   "source": [
    "apac_am_psi.value_counts(\"procedimento_principal_descricao\")"
   ]
  },
  {
   "cell_type": "code",
   "execution_count": 7,
   "id": "25c269e2",
   "metadata": {},
   "outputs": [
    {
     "data": {
      "text/plain": [
       "procedimento_principal_descricao_simple\n",
       "QUETIAPINA     1505021\n",
       "OLANZAPINA     1291921\n",
       "RISPERIDONA     669594\n",
       "CLOZAPINA       377963\n",
       "ZIPRASIDONA      91555\n",
       "LAMOTRIGINA      69679\n",
       "Name: count, dtype: int64"
      ]
     },
     "execution_count": 7,
     "metadata": {},
     "output_type": "execute_result"
    }
   ],
   "source": [
    "apac_am_psi[\"procedimento_principal_descricao_simple\"] = apac_am_psi[\"procedimento_principal_descricao\"].str.split().str[0]\n",
    "apac_am_psi.value_counts(\"procedimento_principal_descricao_simple\")"
   ]
  },
  {
   "cell_type": "markdown",
   "id": "f7cccae4",
   "metadata": {},
   "source": [
    "## 3. Create metrics for:\n",
    "\n",
    "- Total number of APACs\n",
    "- Total number of patients (CNS)\n",
    "- Total value of APACs."
   ]
  },
  {
   "cell_type": "code",
   "execution_count": 16,
   "id": "e679568c",
   "metadata": {},
   "outputs": [
    {
     "data": {
      "text/plain": [
       "['QUETIAPINA',\n",
       " 'OLANZAPINA',\n",
       " 'RISPERIDONA',\n",
       " 'CLOZAPINA',\n",
       " 'ZIPRASIDONA',\n",
       " 'LAMOTRIGINA']"
      ]
     },
     "execution_count": 16,
     "metadata": {},
     "output_type": "execute_result"
    }
   ],
   "source": [
    "psi_drugs = apac_am_psi.value_counts(\"procedimento_principal_descricao_simple\").index.tolist()\n",
    "psi_drugs"
   ]
  },
  {
   "cell_type": "code",
   "execution_count": 20,
   "id": "497f715e",
   "metadata": {},
   "outputs": [
    {
     "name": "stdout",
     "output_type": "stream",
     "text": [
      "QUETIAPINA\n",
      "Total number of APACs: 1,505,021\n",
      "Total number of patients: 187,515\n",
      "Total number of patients: R$ 220,601.96\n",
      "OLANZAPINA\n",
      "Total number of APACs: 1,291,921\n",
      "Total number of patients: 148,458\n",
      "Total number of patients: R$ 161,341.72\n",
      "RISPERIDONA\n",
      "Total number of APACs: 669,594\n",
      "Total number of patients: 84,728\n",
      "Total number of patients: R$ 3,535,420.97\n",
      "CLOZAPINA\n",
      "Total number of APACs: 377,963\n",
      "Total number of patients: 40,424\n",
      "Total number of patients: R$ 37,221.51\n",
      "ZIPRASIDONA\n",
      "Total number of APACs: 91,555\n",
      "Total number of patients: 9,631\n",
      "Total number of patients: R$ 12,866.33\n",
      "LAMOTRIGINA\n",
      "Total number of APACs: 69,679\n",
      "Total number of patients: 10,503\n",
      "Total number of patients: R$ 21,646.88\n",
      "TOTAL\n",
      "Total number of APACs: 4,005,733\n",
      "Total number of patients: 464,034\n",
      "Total number of patients: R$ 3,989,099.37\n"
     ]
    }
   ],
   "source": [
    "for drug in psi_drugs:\n",
    "    apac_am_psi_drug = apac_am_psi[apac_am_psi[\"procedimento_principal_descricao_simple\"] == drug]\n",
    "    print(f\"{drug}\")\n",
    "    print(f\"Total number of APACs: {apac_am_psi_drug.shape[0]:,.0f}\")\n",
    "    print(f\"Total number of patients: {apac_am_psi_drug.value_counts('cns_paciente').shape[0]:,.0f}\")\n",
    "    print(f\"Total number of patients: R$ {apac_am_psi_drug['valor_total_apac'].sum():,.2f}\")\n",
    "\n",
    "print(f\"TOTAL\")\n",
    "print(f\"Total number of APACs: {apac_am_psi.shape[0]:,.0f}\")\n",
    "print(f\"Total number of patients: {apac_am_psi.value_counts('cns_paciente').shape[0]:,.0f}\")\n",
    "print(f\"Total number of patients: R$ {apac_am_psi['valor_total_apac'].sum():,.2f}\")"
   ]
  },
  {
   "cell_type": "code",
   "execution_count": 26,
   "id": "75235bb9",
   "metadata": {},
   "outputs": [
    {
     "data": {
      "text/plain": [
       "3403706"
      ]
     },
     "execution_count": 26,
     "metadata": {},
     "output_type": "execute_result"
    }
   ],
   "source": [
    "apac_am_psi[apac_am_psi['valor_total_apac'] == 0].value_counts(\"procedimento_principal_descricao_simple\").reset_index(name = \"count\")['count'].sum()"
   ]
  },
  {
   "cell_type": "markdown",
   "id": "27ec4557",
   "metadata": {},
   "source": []
  }
 ],
 "metadata": {
  "kernelspec": {
   "display_name": "pysus",
   "language": "python",
   "name": "python3"
  },
  "language_info": {
   "codemirror_mode": {
    "name": "ipython",
    "version": 3
   },
   "file_extension": ".py",
   "mimetype": "text/x-python",
   "name": "python",
   "nbconvert_exporter": "python",
   "pygments_lexer": "ipython3",
   "version": "3.11.11"
  }
 },
 "nbformat": 4,
 "nbformat_minor": 5
}
